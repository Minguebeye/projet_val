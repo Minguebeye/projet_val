{
 "cells": [
  {
   "cell_type": "code",
   "execution_count": 6,
   "id": "3bc184c8",
   "metadata": {},
   "outputs": [
    {
     "name": "stdout",
     "output_type": "stream",
     "text": [
      "entrer la premier valeur: 2\n",
      "entrer la dexieme valeur: 2\n",
      "valeur min:  2\n"
     ]
    }
   ],
   "source": [
    "#exo 2 programme min-max\n",
    "\n",
    "x = int(input(\"entrer la premier valeur: \"))\n",
    "y = int(input(\"entrer la dexieme valeur: \"))\n",
    "if (x < y):\n",
    "    print(\"valeur min: \",x)\n",
    "else:\n",
    "    print(\"valeur min: \",y)"
   ]
  },
  {
   "cell_type": "code",
   "execution_count": null,
   "id": "292cd80d",
   "metadata": {},
   "outputs": [],
   "source": [
    "#exo3 programme de conversion d'euro en dolar\n",
    "\n",
    "montant = float(input(\"enter le montant: \"))"
   ]
  }
 ],
 "metadata": {
  "kernelspec": {
   "display_name": "Python 3",
   "language": "python",
   "name": "python3"
  },
  "language_info": {
   "codemirror_mode": {
    "name": "ipython",
    "version": 3
   },
   "file_extension": ".py",
   "mimetype": "text/x-python",
   "name": "python",
   "nbconvert_exporter": "python",
   "pygments_lexer": "ipython3",
   "version": "3.8.8"
  }
 },
 "nbformat": 4,
 "nbformat_minor": 5
}
